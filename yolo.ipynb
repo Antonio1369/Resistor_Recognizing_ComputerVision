{
 "cells": [
  {
   "cell_type": "code",
   "execution_count": 6,
   "id": "3a85fc46",
   "metadata": {},
   "outputs": [
    {
     "data": {
      "text/plain": [
       "[]"
      ]
     },
     "execution_count": 6,
     "metadata": {},
     "output_type": "execute_result"
    }
   ],
   "source": [
    "import tensorflow as tf\n",
    "from tensorflow.python.client import device_lib\n",
    "tf.config.list_physical_devices('GPU')"
   ]
  },
  {
   "cell_type": "code",
   "execution_count": null,
   "id": "3d4dd902",
   "metadata": {},
   "outputs": [],
   "source": []
  },
  {
   "cell_type": "code",
   "execution_count": 28,
   "id": "fa5de73f-16c4-43b7-80c5-53b0b64135e2",
   "metadata": {},
   "outputs": [],
   "source": [
    "import torch\n",
    "import tensorflow \n",
    "import cv2\n",
    "import numpy as np\n",
    "from PIL import Image\n",
    "import torchvision"
   ]
  },
  {
   "cell_type": "code",
   "execution_count": 29,
   "id": "a07a501f-82ab-4e2b-b37e-0fe3190ef07a",
   "metadata": {
    "scrolled": true
   },
   "outputs": [
    {
     "name": "stderr",
     "output_type": "stream",
     "text": [
      "Downloading: \"https://github.com/ultralytics/yolov5/zipball/master\" to C:\\Users\\ANTONIO/.cache\\torch\\hub\\master.zip\n",
      "YOLOv5  2022-9-23 Python-3.10.5 torch-1.12.1+cpu CPU\n",
      "\n",
      "Fusing layers... \n",
      "Model summary: 213 layers, 7012822 parameters, 0 gradients\n",
      "Adding AutoShape... \n"
     ]
    }
   ],
   "source": [
    "model = torch.hub.load('ultralytics/yolov5', 'custom', path='bestM.pt', force_reload=True)"
   ]
  },
  {
   "cell_type": "code",
   "execution_count": null,
   "id": "1eb5ce27",
   "metadata": {},
   "outputs": [],
   "source": []
  },
  {
   "cell_type": "code",
   "execution_count": 62,
   "id": "82a175f4",
   "metadata": {},
   "outputs": [
    {
     "name": "stdout",
     "output_type": "stream",
     "text": [
      "1\n",
      "0.79196405\n",
      "0.6150405\n",
      "0.27663845\n",
      "0.86807334\n",
      "0.69237864\n",
      "0.94501406\n",
      "0.9360438\n",
      "0.9399658\n",
      "0.9549426\n",
      "0.93784606\n",
      "0.95155585\n",
      "0.94996727\n",
      "0.94706184\n",
      "0.93509877\n",
      "0.9370082\n",
      "0.92996037\n",
      "0.9368045\n",
      "0.9301011\n",
      "0.93887275\n",
      "0.9350725\n",
      "0.9447386\n",
      "0.9304402\n",
      "0.94258547\n",
      "0.9256099\n",
      "0.9367962\n",
      "0.93878436\n",
      "0.93547094\n",
      "0.93075633\n",
      "0.9386948\n",
      "0.9384924\n",
      "0.6365992\n",
      "0.867216\n",
      "0.7159659\n",
      "0.4358284\n",
      "0.7341067\n",
      "0.5710454\n",
      "0.41214445\n",
      "0.256723\n",
      "0.74564844\n",
      "0.8770536\n",
      "0.8959112\n",
      "0.8654946\n",
      "0.80197775\n",
      "0.7936433\n",
      "0.81131047\n",
      "0.8032288\n",
      "0.70175135\n",
      "0.64689934\n"
     ]
    }
   ],
   "source": [
    "cap = cv2.VideoCapture(0)\n",
    "n=0\n",
    "\n",
    "while (conf):\n",
    "    _, frame = cap.read()    \n",
    "    detect = model(frame)\n",
    "    \n",
    "    try:\n",
    "        if n>0:\n",
    "            tensor = detect.xyxy[0]\n",
    "            arr = tensor.cpu().detach().numpy()\n",
    "            conf = arr[0][4]\n",
    "            print(conf)\n",
    "        else:\n",
    "            n=n+1\n",
    "            print(n)\n",
    "    except Exception:\n",
    "        pass\n",
    "    \n",
    "    cv2.imshow('Frame detectado',np.squeeze(detect.render()))\n",
    "\n",
    "    \n",
    "\n",
    "\n",
    "    if cv2.waitKey(5) & 0xFF == ord('d'):\n",
    "        break\n",
    "        \n",
    "cap.release()\n",
    "cv2.destroyAllWindows()"
   ]
  },
  {
   "cell_type": "code",
   "execution_count": 57,
   "id": "6e7f2ad2",
   "metadata": {},
   "outputs": [
    {
     "name": "stdout",
     "output_type": "stream",
     "text": [
      "0.9017603\n"
     ]
    }
   ],
   "source": [
    "print(conf)"
   ]
  },
  {
   "cell_type": "code",
   "execution_count": 59,
   "id": "539008e0",
   "metadata": {},
   "outputs": [],
   "source": [
    "copia = frame"
   ]
  },
  {
   "cell_type": "code",
   "execution_count": null,
   "id": "f2f7a06f",
   "metadata": {},
   "outputs": [],
   "source": []
  },
  {
   "cell_type": "code",
   "execution_count": 60,
   "id": "c15fed34",
   "metadata": {},
   "outputs": [],
   "source": [
    "np_arr = torch_tensor.cpu().detach().numpy()"
   ]
  },
  {
   "cell_type": "code",
   "execution_count": 61,
   "id": "a0789137",
   "metadata": {},
   "outputs": [
    {
     "ename": "IndexError",
     "evalue": "index 0 is out of bounds for axis 0 with size 0",
     "output_type": "error",
     "traceback": [
      "\u001b[1;31m---------------------------------------------------------------------------\u001b[0m",
      "\u001b[1;31mIndexError\u001b[0m                                Traceback (most recent call last)",
      "Input \u001b[1;32mIn [61]\u001b[0m, in \u001b[0;36m<cell line: 1>\u001b[1;34m()\u001b[0m\n\u001b[1;32m----> 1\u001b[0m box \u001b[38;5;241m=\u001b[39m np\u001b[38;5;241m.\u001b[39marray([[\u001b[43mnp_arr\u001b[49m\u001b[43m[\u001b[49m\u001b[38;5;241;43m0\u001b[39;49m\u001b[43m]\u001b[49m[\u001b[38;5;241m0\u001b[39m], np_arr[\u001b[38;5;241m0\u001b[39m][\u001b[38;5;241m3\u001b[39m]], [np_arr[\u001b[38;5;241m0\u001b[39m][\u001b[38;5;241m0\u001b[39m], np_arr[\u001b[38;5;241m0\u001b[39m][\u001b[38;5;241m1\u001b[39m]], [np_arr[\u001b[38;5;241m0\u001b[39m][\u001b[38;5;241m2\u001b[39m], np_arr[\u001b[38;5;241m0\u001b[39m][\u001b[38;5;241m1\u001b[39m]], [np_arr[\u001b[38;5;241m0\u001b[39m][\u001b[38;5;241m2\u001b[39m],np_arr[\u001b[38;5;241m0\u001b[39m][\u001b[38;5;241m3\u001b[39m]]])\n\u001b[0;32m      2\u001b[0m box \u001b[38;5;241m=\u001b[39m np\u001b[38;5;241m.\u001b[39mint0(box)\n",
      "\u001b[1;31mIndexError\u001b[0m: index 0 is out of bounds for axis 0 with size 0"
     ]
    }
   ],
   "source": [
    "box = np.array([[np_arr[0][0], np_arr[0][3]], [np_arr[0][0], np_arr[0][1]], [np_arr[0][2], np_arr[0][1]], [np_arr[0][2],np_arr[0][3]]])\n",
    "box = np.int0(box)"
   ]
  },
  {
   "cell_type": "code",
   "execution_count": 17,
   "id": "deef72c2",
   "metadata": {},
   "outputs": [],
   "source": [
    "width = int(box[1][0])\n",
    "height = int(box[1][1])\n",
    "\n",
    "src_pts = box.astype('float32')\n",
    "dst_pts = np.array([[0, height-1],\n",
    "                  [0,0],\n",
    "                  [width-1,0],\n",
    "                  [width-1,height-1]],dtype = 'float32')\n",
    "\n",
    "M = cv2.getPerspectiveTransform(src_pts, dst_pts)\n",
    "warped = cv2.warpPerspective(copia, M, (width, height))\n",
    "hei, wid,_ = warped.shape"
   ]
  },
  {
   "cell_type": "code",
   "execution_count": 18,
   "id": "101b746b",
   "metadata": {},
   "outputs": [],
   "source": [
    "if hei>wid:\n",
    "    cont = ndimage.rotate(warped, 90)\n",
    "else:\n",
    "    cont = warped.copy()\n",
    "\n",
    "#Guardamos la imagen\n",
    "cv2.imwrite(\"tempimg1.jpg\", cont)\n",
    "\n",
    "#Resizeamos la imagen\n",
    "source = 'tempimg1.jpg'\n",
    "cont = Image.open(source)\n",
    "cont = cont.resize((200, 60)) #(width, height)\n",
    "cont.save(source)\n",
    "\n",
    "#Llamamos la imagen resizeada\n",
    "cont = cv2.imread(source)"
   ]
  },
  {
   "cell_type": "code",
   "execution_count": 19,
   "id": "0dacfb7c",
   "metadata": {},
   "outputs": [
    {
     "name": "stdout",
     "output_type": "stream",
     "text": [
      "(2, 200, 3)\n"
     ]
    }
   ],
   "source": [
    "cont1 = cont.copy()\n",
    "he,w,_ = cont1.shape\n",
    "cont1 = cont1[int(he/2)-5:int(he/2)-3,:]\n",
    "print(cont1.shape)\n",
    "cont2 = cont.copy()"
   ]
  },
  {
   "cell_type": "code",
   "execution_count": 20,
   "id": "9abd4085",
   "metadata": {},
   "outputs": [
    {
     "name": "stdout",
     "output_type": "stream",
     "text": [
      "[[215, 56, 59], [200, 83, 83], [186, 157, 151], [149, 166, 161], [142, 168, 171], [134, 161, 168], [142, 162, 175], [140, 162, 174], [133, 163, 172], [131, 163, 172], [132, 164, 170], [128, 164, 170], [119, 165, 173], [121, 163, 175], [135, 160, 177], [139, 159, 177], [134, 160, 176], [133, 162, 176], [133, 162, 176], [134, 163, 177], [134, 163, 178], [135, 164, 178], [136, 165, 179], [136, 165, 180], [137, 166, 181], [137, 166, 180], [139, 168, 182], [143, 172, 186], [146, 175, 190], [145, 174, 188], [138, 167, 182], [130, 161, 177], [126, 156, 176], [125, 155, 179], [126, 153, 180], [121, 146, 178], [118, 137, 175], [110, 127, 170], [109, 120, 170], [107, 117, 171], [107, 114, 171], [107, 114, 172], [105, 114, 172], [105, 114, 171], [103, 114, 171], [103, 115, 169], [102, 116, 169], [102, 118, 166], [108, 126, 169], [115, 134, 175], [120, 140, 178], [121, 141, 178], [122, 143, 178], [125, 148, 178], [127, 150, 178], [125, 150, 174], [123, 148, 172], [123, 149, 170], [122, 148, 168], [122, 148, 168], [121, 146, 168], [120, 146, 167], [120, 145, 167], [119, 145, 166], [118, 143, 163], [117, 142, 162], [118, 143, 163], [119, 144, 164], [120, 144, 166], [119, 143, 165], [117, 139, 164], [114, 135, 162], [118, 136, 167], [115, 131, 167], [110, 125, 164], [107, 120, 164], [108, 118, 165], [108, 117, 167], [107, 115, 168], [106, 113, 168], [104, 114, 168], [104, 115, 169], [103, 115, 167], [101, 115, 164], [101, 115, 164], [101, 117, 163], [105, 122, 165], [108, 127, 165], [116, 138, 174], [117, 140, 172], [116, 142, 172], [116, 145, 170], [116, 146, 171], [114, 145, 166], [112, 144, 165], [111, 144, 163], [112, 143, 166], [112, 143, 166], [111, 143, 166], [111, 143, 166], [111, 144, 164], [111, 144, 164], [111, 143, 164], [112, 143, 164], [113, 143, 162], [113, 140, 160], [114, 138, 156], [113, 135, 153], [112, 129, 148], [108, 123, 142], [104, 118, 137], [104, 116, 134], [101, 111, 125], [101, 112, 124], [102, 112, 126], [101, 113, 127], [103, 116, 130], [103, 119, 132], [103, 121, 136], [102, 122, 137], [106, 129, 144], [107, 133, 147], [109, 136, 152], [111, 141, 156], [112, 143, 158], [110, 143, 158], [109, 142, 158], [107, 141, 157], [107, 139, 159], [106, 138, 159], [105, 137, 158], [104, 136, 157], [103, 135, 154], [102, 134, 153], [101, 133, 152], [101, 133, 152], [106, 140, 156], [106, 139, 155], [106, 140, 154], [106, 140, 155], [106, 140, 154], [105, 139, 154], [104, 138, 153], [105, 137, 152], [106, 133, 153], [109, 134, 154], [110, 135, 155], [110, 135, 155], [109, 135, 152], [110, 136, 153], [113, 139, 155], [115, 141, 157], [120, 147, 161], [126, 153, 167], [134, 161, 174], [140, 168, 179], [142, 170, 181], [137, 166, 176], [131, 159, 169], [124, 154, 164], [119, 148, 161], [116, 148, 161], [116, 148, 161], [118, 150, 163], [122, 154, 167], [125, 157, 170], [128, 159, 172], [128, 159, 172], [128, 159, 172], [121, 152, 165], [112, 143, 156], [104, 135, 148], [101, 131, 145], [99, 130, 143], [101, 129, 143], [101, 129, 143], [99, 127, 141], [100, 128, 142], [101, 128, 142], [101, 127, 141], [101, 127, 141], [101, 127, 141], [104, 128, 140], [104, 128, 140], [106, 128, 140], [106, 128, 140], [108, 128, 139], [108, 128, 139], [108, 127, 138], [107, 126, 137], [107, 125, 133], [104, 125, 133], [97, 124, 134], [97, 117, 127], [121, 123, 132], [121, 117, 122], [122, 120, 119], [154, 116, 114], [194, 76, 81], [213, 57, 64]]\n"
     ]
    }
   ],
   "source": [
    "h,w,_ = cont1.shape\n",
    "\n",
    "col=0\n",
    "sec = []\n",
    "lista = list()\n",
    "\n",
    "for i in range(w):\n",
    "    seccion = cont1[:,(i):(i+1)]\n",
    "    alto,ancho,_ = seccion.shape\n",
    "    \n",
    "    for k in range(3):\n",
    "        \n",
    "        for x in range(ancho):\n",
    "            for y in range(alto):\n",
    "                col = seccion[y,x,k]/(ancho*alto) + col\n",
    "        sec.append(int(col))\n",
    "        col=0\n",
    "    lista.append(sec)\n",
    "    sec = []\n",
    "\n",
    "print(lista)"
   ]
  },
  {
   "cell_type": "code",
   "execution_count": 21,
   "id": "230152c4",
   "metadata": {},
   "outputs": [
    {
     "data": {
      "text/plain": [
       "True"
      ]
     },
     "execution_count": 21,
     "metadata": {},
     "output_type": "execute_result"
    }
   ],
   "source": [
    "for i in range(w):\n",
    "    for x in range(((i)),(i+1)):\n",
    "        for y in range(he):\n",
    "            cont2[y,x] = lista[i]\n",
    "            \n",
    "cv2.imwrite(\"tempimg2.jpg\", cont2)     "
   ]
  },
  {
   "cell_type": "code",
   "execution_count": 22,
   "id": "6baf0656",
   "metadata": {},
   "outputs": [],
   "source": [
    "source = 'tempimg2.jpg'\n",
    "imgT = Image.open(source)\n",
    "imgT = imgT.resize((200, 60)) #(width, height)\n",
    "imgT.save(source)\n",
    "imgT = cv2.imread(source)"
   ]
  },
  {
   "cell_type": "code",
   "execution_count": null,
   "id": "556a8b8b",
   "metadata": {},
   "outputs": [],
   "source": []
  },
  {
   "cell_type": "code",
   "execution_count": 23,
   "id": "d2e1e139",
   "metadata": {},
   "outputs": [
    {
     "data": {
      "text/plain": [
       "True"
      ]
     },
     "execution_count": 23,
     "metadata": {},
     "output_type": "execute_result"
    }
   ],
   "source": [
    "while True:\n",
    "    \n",
    "    cv2.imshow('Real',frame)\n",
    "    cv2.imshow('Rotado',cont)\n",
    "    cv2.imshow('Bandas', imgT)\n",
    "    cv2.imwrite('rotacion.jpg',cont)\n",
    "\n",
    "    \n",
    "    if cv2.waitKey(10) & 0xFF == ord('d'):\n",
    "        break\n",
    "cv2.destroyAllWindows()\n",
    "cv2.imwrite('rotacion.jpg',cont)\n"
   ]
  },
  {
   "cell_type": "code",
   "execution_count": 24,
   "id": "80f8862b",
   "metadata": {
    "scrolled": true
   },
   "outputs": [
    {
     "name": "stdout",
     "output_type": "stream",
     "text": [
      "coldet [9, 9, 9, 9, 9, 9, 9, 9, 4, 4, 4, 4, 4, 4, 4, 4, 4, 4, 4, 4, 4, 4, 4, 4, 4, 4, 4, 4, 4, 4, 4, 4, 4, -1, 4, 4, -1, -1, -1, -1, -1, -1, -1, -1, -1, -1, -1, -1, -1, -1, -1, 4, 4, 4, 4, -1, -1, -1, -1, -1, -1, -1, -1, -1, -1, -1, -1, -1, -1, -1, -1, -1, -1, -1, -1, -1, -1, -1, -1, -1, -1, -1, -1, -1, -1, -1, -1, -1, -1, -1, -1, -1, -1, -1, -1, -1, -1, -1, -1, -1, -1, -1, -1, -1, -1, -1, -1, -1, -1, -1, -1, -1, -1, -1, -1, -1, -1, -1, -1, -1, -1, -1, -1, -1, -1, -1, -1, -1, -1, -1, -1, -1, -1, -1, -1, -1, -1, -1, -1, -1, -1, -1, -1, -1, -1, -1, -1, -1, -1, -1, -1, -1, -1, -1, -1, -1, -1, -1, -1, -1, -1, -1, -1, -1, -1, -1, -1, -1, -1, -1, -1, -1, -1, -1, -1, -1, -1, -1, -1, -1, -1, -1, -1, -1, -1, -1, -1, -1, -1, -1, -1, -1, -1, -1, -1, -1, -1, -1, -1, -1]\n",
      "sumc [1, 0, 0, 0, 12, 0, 0, 0, 0, 0]\n",
      "code 4\n",
      "result [4, 0, 0]\n",
      "Resistance :  40.0 Ohm\n"
     ]
    }
   ],
   "source": [
    "import sys\n",
    "sys.path.append('C:\\Python36\\Lib\\site-packages\\cv2')\n",
    "import numpy as np\n",
    "import cv2\n",
    "import math\n",
    "\n",
    "img = cv2.imread(\"rotacion.jpg\")\n",
    "image = cv2.cvtColor(img, cv2.COLOR_BGR2RGB)\n",
    "rows,columns,channels = image.shape\n",
    "#print ('Image shape: ',image.shape)\n",
    "\n",
    "mean_color = cv2.mean(image)\n",
    "#print ('mean: ',mean_color)\n",
    "\n",
    "#make 3 new arrays with size equal to number of columns in small image\n",
    "numbers_of_dark_pixels_in_each_column = [0 for i in range(columns)]\n",
    "addition_of_row_numbers_having_dark_pixels_in_each_column = [0 for i in range(columns)]\n",
    "average_of_row_numbers_having_dark_pixels_in_each_column = [0 for i in range(columns)]\n",
    "\n",
    "#travel row by row downwards in each column from left to right in small image\n",
    "global num\n",
    "for x in range(0,columns):\n",
    "    num = 0\n",
    "    for y in range(0,rows):\n",
    "        res = image[y,x]\n",
    "        \n",
    "        if res is None:\n",
    "            continue\n",
    "        #if the respecitve values stored in res are greater than half of the respective values in the mean color of the small image\n",
    "        #then pass (these are the light parts of the image)\n",
    "        #if not, increment num by 1 and set respective array position of avgy equal to column number as the value already stored plus y\n",
    "        if res[0] > mean_color[0] * 0.5 and res[1] > mean_color[1] * 0.5 and res[2] > mean_color[2] * 0.5:\n",
    "            pass\n",
    "        else:\n",
    "            num += 1\n",
    "            addition_of_row_numbers_having_dark_pixels_in_each_column[x] += y\n",
    "\n",
    "    #once the iteration of rows along a column is over,\n",
    "    #if num is greater than 2, set value in nums at index equal to column number, as num\n",
    "    #and set value in avgy at index equal to column number, as (value already there divided by num)\n",
    "    if num > 2:\n",
    "        numbers_of_dark_pixels_in_each_column[x] = num\n",
    "        average_of_row_numbers_having_dark_pixels_in_each_column[x]=((addition_of_row_numbers_having_dark_pixels_in_each_column[x]) / num)\n",
    "\n",
    "        \n",
    "average_dark_pixels = 0\n",
    "count = 0\n",
    "for x in range(0, columns):\n",
    "    if numbers_of_dark_pixels_in_each_column[x] > 0:#if nums(column number) is greater than 0, then do this\n",
    "        average_dark_pixels += numbers_of_dark_pixels_in_each_column[x] #add the values in nums array that are greater than 0\n",
    "        count += 1 #count the number of values greater than 0 \n",
    "\n",
    "\n",
    "#gettin row and column values to extract out part of image and draw rectangle\n",
    "x_min = -1\n",
    "x_max = 0\n",
    "\n",
    "if count > 0: #if there are values greater than 0 in nums array \n",
    "    average_dark_pixels /= count #get the average times the num has been greater than 0 by dividing total by number of values greater than 0\n",
    "    for x in range(0,columns):\n",
    "        if numbers_of_dark_pixels_in_each_column[x] > average_dark_pixels + 15: #if nums(column number) is greater than ((average times the num has been greater than 0) + 15)\n",
    "            if x_min < 0:#this will happen only in first iteration as minx is -1 and after that minx is updated to x\n",
    "                x_min = x #set minx as respective index of nums array \n",
    "            x_max = x # set maxx as respective index of nums array\n",
    "\n",
    "if x_min >= 0: #if minx is greater than or equal to 0 (ie. respective index of nums array saved above is higher than 0)\n",
    "    y_min = average_of_row_numbers_having_dark_pixels_in_each_column[x_min] \n",
    "    y_max = average_of_row_numbers_having_dark_pixels_in_each_column[x_max]\n",
    "    x_min_2 = x_min - 20\n",
    "\n",
    "    if x_min_2 < 0:\n",
    "        x_min_2 = 0\n",
    "    if x_min_2 > len(average_of_row_numbers_having_dark_pixels_in_each_column) - 1:\n",
    "        x_min_2 = len(average_of_row_numbers_having_dark_pixels_in_each_column) - 1\n",
    "\n",
    "    x_max_2 = x_max + 20\n",
    "    if x_max_2 < 0:\n",
    "        x_max_2 = 0\n",
    "    if x_max_2 > len(average_of_row_numbers_having_dark_pixels_in_each_column) - 1:\n",
    "        x_max_2 = len(average_of_row_numbers_having_dark_pixels_in_each_column) - 1\n",
    "\n",
    "    ratio = (average_of_row_numbers_having_dark_pixels_in_each_column[x_max_2] - average_of_row_numbers_having_dark_pixels_in_each_column[x_min_2]) / ((x_max_2) - (x_min_2))\n",
    "    y_min = (int) (ratio * (x_min - x_min_2) + average_of_row_numbers_having_dark_pixels_in_each_column[x_min_2])\n",
    "    y_max = (int) (ratio * (x_max - x_max_2) + average_of_row_numbers_having_dark_pixels_in_each_column[x_max_2])\n",
    "\n",
    "    w = x_max - x_min#width of part of image to be extracted out\n",
    "    \n",
    "    if w > 10 and ratio < 0.7 and ratio > -0.7:\n",
    "        x1=min(x_min,x_max)\n",
    "        x2=max(x_min,x_max)\n",
    "        y1=min(y_min+15,y_max+15,y_max-15,y_min-15)\n",
    "        y2=max(y_min+15,y_max+15,y_max-15,y_min-15)\n",
    "\n",
    "        \n",
    "        res = cv2.resize(image[y1:y2, x1:x2],(columns,50),fx=0, fy=0, interpolation = cv2.INTER_NEAREST)#cut out the colour bands part from the image\n",
    "        cv2.rectangle(image, (x1,y1), (x2,y2),(0, 255, 0),2); #draw a green rectangle where the part of image was extracted on original image\n",
    "\n",
    "        n = 3\n",
    "        \n",
    "        res_rows,res_columns,res_channels = res.shape\n",
    "        background = [0 for k in range(n)]\n",
    "        \n",
    "        for x in range(res_columns-50,res_columns):\n",
    "            value = res[0, x]\n",
    "            for i in range(0,3):\n",
    "                background[i] += value[i] / 50.0\n",
    "        \n",
    "        background_distances = [0 for k in range(res_columns)]\n",
    "        \n",
    "        average_distance = 0\n",
    "        for x in range(0,res_columns-5):# -5 removed\n",
    "            c1 = background\n",
    "            c2 = res[0,x]\n",
    "            \n",
    "            background_distances[x] = (math.pow(c1[0] - c2[0], 2)\n",
    "                          + math.pow(c1[1] - c2[1], 2)\n",
    "                          + math.pow(c1[2] - c2[2], 2))/100\n",
    "            average_distance += (background_distances[x] / res_columns)\n",
    "         \n",
    "\n",
    "        \n",
    "        res= cv2.fastNlMeansDenoising(res, None, 10, 7, 30)\n",
    "        res = cv2.GaussianBlur(res,(15,15),0)\n",
    "       \n",
    "        res = cv2.GaussianBlur(res,(15,15),0)\n",
    "        \n",
    "        cv2.imshow('res',cv2.cvtColor(res, cv2.COLOR_BGR2RGB))\n",
    "       \n",
    "\n",
    "        #the brighter values of colors\n",
    "        \n",
    "        \n",
    "        bright_codes = [(0, 0, 0),         #black\n",
    "                        (156, 102, 51), #brown\n",
    "                     (255, 0, 0),       #red\n",
    "                     (255, 102, 0),     #orange\n",
    "                     (255, 255, 0),     #yellow\n",
    "                     (0, 255, 0),       #green\n",
    "                     (0, 0, 255),       #blue\n",
    "                     (200, 0, 255),     #violet\n",
    "                     (128, 128, 128),   #gray\n",
    "                     (255, 255, 255)]   #white\n",
    "\n",
    "        dark_codes = [(20, 20, 20),      #black\n",
    "                 (71, 53, 38),      #brown\n",
    "                 (204, 0, 0),       #red\n",
    "                      (255, 51, 0),     #orange\n",
    "                    (255, 204, 102), #yellow\n",
    "                      (30, 200, 50), #green\n",
    "                 (40, 73, 86),      #blue\n",
    "                 (110, 0, 51),      #violet\n",
    "                 (73, 65, 62),      #gray\n",
    "                 (250, 250, 250)]   #white\n",
    "\n",
    "        color_name = [\"black\",\"brown\",\"red\",\"orange\",\"yellow\",\"green\",\"blue\",\"violet\",\"gray\",\"white\"]\n",
    "        #getting colors of the bands\n",
    "        \n",
    "    \n",
    "        coldet = [0]*res_columns\n",
    "        for x in range(0,res_columns):\n",
    "            if background_distances[x] > average_distance :\n",
    "                col = res[0, x]\n",
    "                \n",
    "                mini = 100000\n",
    "                minc = -1\n",
    "                for c in range(0,len(dark_codes)):\n",
    "                    c2 = dark_codes[c]\n",
    "                    distance = (math.pow(col[0] - c2[0], 2)\n",
    "                            + math.pow(col[1] - c2[1], 2)\n",
    "                            + math.pow(col[2] - c2[2], 2))\n",
    "                    if distance < mini:\n",
    "                        mini = distance\n",
    "                        minc = c\n",
    "                        \n",
    "                coldet[x] = minc\n",
    "                if minc >= 0:\n",
    "                    pass\n",
    "                   \n",
    "            else:\n",
    "                coldet[x] = -1\n",
    "\n",
    "        print(\"coldet\",coldet)\n",
    "\n",
    "        numconti = 0\n",
    "        numcodes = 0\n",
    "        sumcodes = [0]*res_columns\n",
    "        result = [0 for k in range(n)]\n",
    "        found = False\n",
    "\n",
    "        for x in range(0,res_columns):\n",
    "            if coldet[x] == -1 and numconti > 20:\n",
    "                sumc = [0]*len(dark_codes)\n",
    "                for i in range(0,numconti - 20):\n",
    "                    sumc[sumcodes[i]] += 1\n",
    "                print(\"sumc\",sumc)\n",
    "\n",
    "                maxnum = 0\n",
    "                code = -1\n",
    "                for i in range(0,len(dark_codes)):\n",
    "                    if sumc[i] > maxnum:\n",
    "                        maxnum = sumc[i]\n",
    "                        code = i\n",
    "\n",
    "                if code != -1:\n",
    "                   #display colours and colour names\n",
    "                    cv2.rectangle(image, ((int)(numcodes*columns/4),rows-40), ((int)((numcodes +1 )*columns/4),rows),bright_codes[code],-1)#Original\n",
    "                    cv2.putText(image, color_name[code], ((int)(numcodes * columns / 4), rows-10),cv2.FONT_HERSHEY_DUPLEX, 1.0, (0, 0, 0))\n",
    "                    result[numcodes] = code\n",
    "                    print(\"code\", code)\n",
    "                    numcodes += 1\n",
    "                    if numcodes >= 3:\n",
    "                        found = True\n",
    "                        break\n",
    "                numconti = 0\n",
    "                sumcodes = [0]*res_columns\n",
    "            elif coldet[x] >= 0:\n",
    "                if numconti > 10:\n",
    "                    sumcodes[numconti - 10] = coldet[x]\n",
    "                if numconti == 10:\n",
    "                    pass\n",
    "                    \n",
    "                numconti += 1\n",
    "            else:\n",
    "                numconti = 0\n",
    "\n",
    "        \n",
    "        print(\"result\",result)\n",
    "        final_result = result[0] * 10 + result[1]\n",
    "        final_result *= math.pow(10, result[2])\n",
    "        resistance = final_result\n",
    "        unit = \" Ohm\"\n",
    "        if resistance >= 1000.0:\n",
    "            resistance /= 1000\n",
    "            unit = \"k Ohm\"\n",
    "        if resistance >= 1000000.0:\n",
    "            resistance /= 1000000\n",
    "            unit = \"m Ohm\"\n",
    "\n",
    "        answer = f'{resistance:.1f}' + unit\n",
    "        cv2.putText(image, answer, (50, 50),cv2.FONT_HERSHEY_DUPLEX, 1.0, (0, 0, 0))\n",
    "        \n",
    "        print(\"Resistance : \",answer)\n",
    "        \n",
    "        \n",
    "\n",
    "    final = cv2.cvtColor(image, cv2.COLOR_BGR2RGB)\n",
    "    cv2.imshow(\"Final Output\", final)\n",
    "\n",
    "\n"
   ]
  },
  {
   "cell_type": "code",
   "execution_count": null,
   "id": "0e035e61",
   "metadata": {},
   "outputs": [],
   "source": []
  },
  {
   "cell_type": "code",
   "execution_count": null,
   "id": "90869960",
   "metadata": {},
   "outputs": [],
   "source": []
  }
 ],
 "metadata": {
  "kernelspec": {
   "display_name": "Python 3 (ipykernel)",
   "language": "python",
   "name": "python3"
  },
  "language_info": {
   "codemirror_mode": {
    "name": "ipython",
    "version": 3
   },
   "file_extension": ".py",
   "mimetype": "text/x-python",
   "name": "python",
   "nbconvert_exporter": "python",
   "pygments_lexer": "ipython3",
   "version": "3.10.5"
  }
 },
 "nbformat": 4,
 "nbformat_minor": 5
}
